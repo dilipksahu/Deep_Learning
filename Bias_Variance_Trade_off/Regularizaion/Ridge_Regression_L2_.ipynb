{
  "nbformat": 4,
  "nbformat_minor": 0,
  "metadata": {
    "colab": {
      "name": "Ridge_Regression_L2_.ipynb",
      "provenance": [],
      "collapsed_sections": []
    },
    "kernelspec": {
      "name": "python3",
      "display_name": "Python 3"
    }
  },
  "cells": [
    {
      "cell_type": "code",
      "metadata": {
        "id": "DpydxBQfpLaD",
        "colab_type": "code",
        "colab": {
          "base_uri": "https://localhost:8080/",
          "height": 494
        },
        "outputId": "7c693083-5328-4e51-bf44-89113be8812c"
      },
      "source": [
        "import pandas as pd\n",
        "BHNames= ['crim','zn','indus','chas','nox','rm',\n",
        "         'age','dis','rad','tax','ptratio','black','lstat','medv']\n",
        "\n",
        "\n",
        "url='https://archive.ics.uci.edu/ml/machine-learning-databases/housing/housing.data'\n",
        "data = pd.read_csv(url, delim_whitespace=True, names=BHNames)\n",
        "\n",
        "print(data.head(20))\n",
        "\n",
        "\n",
        "'''\n",
        "CRIM: Per capita crime rate by town\n",
        "ZN: Proportion of residential land zoned for lots over 25,000 sq. ft\n",
        "INDUS: Proportion of non-retail business acres per town\n",
        "CHAS: Charles River dummy variable (= 1 if tract bounds river; 0 otherwise)\n",
        "NOX: Nitric oxide concentration (parts per 10 million)\n",
        "RM: Average number of rooms per dwelling\n",
        "AGE: Proportion of owner-occupied units built prior to 1940\n",
        "DIS: Weighted distances to five Boston employment centers\n",
        "RAD: Index of accessibility to radial highways\n",
        "TAX: Full-value property tax rate per $10,000\n",
        "PTRATIO: Pupil-teacher ratio by town\n",
        "B: 1000(Bk — 0.63)², where Bk is the proportion of [people of African American descent] by town\n",
        "LSTAT: Percentage of lower status of the population\n",
        "MEDV: Median value of owner-occupied homes in $1000s'''"
      ],
      "execution_count": 1,
      "outputs": [
        {
          "output_type": "stream",
          "text": [
            "       crim    zn  indus  chas    nox  ...    tax  ptratio   black  lstat  medv\n",
            "0   0.00632  18.0   2.31     0  0.538  ...  296.0     15.3  396.90   4.98  24.0\n",
            "1   0.02731   0.0   7.07     0  0.469  ...  242.0     17.8  396.90   9.14  21.6\n",
            "2   0.02729   0.0   7.07     0  0.469  ...  242.0     17.8  392.83   4.03  34.7\n",
            "3   0.03237   0.0   2.18     0  0.458  ...  222.0     18.7  394.63   2.94  33.4\n",
            "4   0.06905   0.0   2.18     0  0.458  ...  222.0     18.7  396.90   5.33  36.2\n",
            "5   0.02985   0.0   2.18     0  0.458  ...  222.0     18.7  394.12   5.21  28.7\n",
            "6   0.08829  12.5   7.87     0  0.524  ...  311.0     15.2  395.60  12.43  22.9\n",
            "7   0.14455  12.5   7.87     0  0.524  ...  311.0     15.2  396.90  19.15  27.1\n",
            "8   0.21124  12.5   7.87     0  0.524  ...  311.0     15.2  386.63  29.93  16.5\n",
            "9   0.17004  12.5   7.87     0  0.524  ...  311.0     15.2  386.71  17.10  18.9\n",
            "10  0.22489  12.5   7.87     0  0.524  ...  311.0     15.2  392.52  20.45  15.0\n",
            "11  0.11747  12.5   7.87     0  0.524  ...  311.0     15.2  396.90  13.27  18.9\n",
            "12  0.09378  12.5   7.87     0  0.524  ...  311.0     15.2  390.50  15.71  21.7\n",
            "13  0.62976   0.0   8.14     0  0.538  ...  307.0     21.0  396.90   8.26  20.4\n",
            "14  0.63796   0.0   8.14     0  0.538  ...  307.0     21.0  380.02  10.26  18.2\n",
            "15  0.62739   0.0   8.14     0  0.538  ...  307.0     21.0  395.62   8.47  19.9\n",
            "16  1.05393   0.0   8.14     0  0.538  ...  307.0     21.0  386.85   6.58  23.1\n",
            "17  0.78420   0.0   8.14     0  0.538  ...  307.0     21.0  386.75  14.67  17.5\n",
            "18  0.80271   0.0   8.14     0  0.538  ...  307.0     21.0  288.99  11.69  20.2\n",
            "19  0.72580   0.0   8.14     0  0.538  ...  307.0     21.0  390.95  11.28  18.2\n",
            "\n",
            "[20 rows x 14 columns]\n"
          ],
          "name": "stdout"
        },
        {
          "output_type": "execute_result",
          "data": {
            "application/vnd.google.colaboratory.intrinsic+json": {
              "type": "string"
            },
            "text/plain": [
              "'\\nCRIM: Per capita crime rate by town\\nZN: Proportion of residential land zoned for lots over 25,000 sq. ft\\nINDUS: Proportion of non-retail business acres per town\\nCHAS: Charles River dummy variable (= 1 if tract bounds river; 0 otherwise)\\nNOX: Nitric oxide concentration (parts per 10 million)\\nRM: Average number of rooms per dwelling\\nAGE: Proportion of owner-occupied units built prior to 1940\\nDIS: Weighted distances to five Boston employment centers\\nRAD: Index of accessibility to radial highways\\nTAX: Full-value property tax rate per $10,000\\nPTRATIO: Pupil-teacher ratio by town\\nB: 1000(Bk — 0.63)², where Bk is the proportion of [people of African American descent] by town\\nLSTAT: Percentage of lower status of the population\\nMEDV: Median value of owner-occupied homes in $1000s'"
            ]
          },
          "metadata": {
            "tags": []
          },
          "execution_count": 1
        }
      ]
    },
    {
      "cell_type": "code",
      "metadata": {
        "id": "M0zotxMep0eA",
        "colab_type": "code",
        "colab": {}
      },
      "source": [
        "\n"
      ],
      "execution_count": null,
      "outputs": []
    },
    {
      "cell_type": "code",
      "metadata": {
        "id": "RMiYKr_jp722",
        "colab_type": "code",
        "colab": {
          "base_uri": "https://localhost:8080/",
          "height": 51
        },
        "outputId": "bd1e9106-042f-4920-d5ba-ec2be51aa16e"
      },
      "source": [
        "from sklearn.model_selection import train_test_split\n",
        "\n",
        "X = data.drop('medv', axis = 1)\n",
        "print('X shape = ',X.shape)\n",
        "Y = data[['medv']]\n",
        "print('Y shape = ',Y.shape)\n",
        "\n",
        "\n"
      ],
      "execution_count": 35,
      "outputs": [
        {
          "output_type": "stream",
          "text": [
            "X shape =  (506, 13)\n",
            "Y shape =  (506, 1)\n"
          ],
          "name": "stdout"
        }
      ]
    },
    {
      "cell_type": "code",
      "metadata": {
        "id": "3bql01wWq32H",
        "colab_type": "code",
        "colab": {
          "base_uri": "https://localhost:8080/",
          "height": 68
        },
        "outputId": "d9408ab2-017b-42d8-af50-148e4431e340"
      },
      "source": [
        "names = data.drop('medv', axis =1).columns\n",
        "print(names)"
      ],
      "execution_count": 3,
      "outputs": [
        {
          "output_type": "stream",
          "text": [
            "Index(['crim', 'zn', 'indus', 'chas', 'nox', 'rm', 'age', 'dis', 'rad', 'tax',\n",
            "       'ptratio', 'black', 'lstat'],\n",
            "      dtype='object')\n"
          ],
          "name": "stdout"
        }
      ]
    },
    {
      "cell_type": "code",
      "metadata": {
        "id": "H_ffHZlQwCn8",
        "colab_type": "code",
        "colab": {}
      },
      "source": [
        "from sklearn.preprocessing import StandardScaler\n",
        "scaler = StandardScaler()\n",
        "x_std = scaler.fit_transform(X)\n"
      ],
      "execution_count": 38,
      "outputs": []
    },
    {
      "cell_type": "code",
      "metadata": {
        "id": "5wUtPjbSsG83",
        "colab_type": "code",
        "colab": {}
      },
      "source": [
        "from sklearn.linear_model import Lasso\n",
        "import matplotlib.pyplot as plt\n",
        "lasso = Lasso(alpha=0.2)"
      ],
      "execution_count": 39,
      "outputs": []
    },
    {
      "cell_type": "code",
      "metadata": {
        "id": "ax6quoUMtkPP",
        "colab_type": "code",
        "colab": {}
      },
      "source": [
        "lasso_coef = lasso.fit(x_std,Y).coef_\n"
      ],
      "execution_count": 40,
      "outputs": []
    },
    {
      "cell_type": "code",
      "metadata": {
        "id": "T0TO-n4qu7md",
        "colab_type": "code",
        "colab": {
          "base_uri": "https://localhost:8080/",
          "height": 289
        },
        "outputId": "a95e3e92-8267-4a64-99e9-4eb36a9dc209"
      },
      "source": [
        "plt.plot(range(len(names)),lasso_coef )\n",
        "plt.xticks(range(len(names)), names, rotation=60)\n",
        "plt.ylabel(\"coefficient\")\n",
        "plt.show()"
      ],
      "execution_count": 41,
      "outputs": [
        {
          "output_type": "display_data",
          "data": {
            "image/png": "[encoded data removed]",
            "text/plain": [
              "<Figure size 432x288 with 1 Axes>"
            ]
          },
          "metadata": {
            "tags": [],
            "needs_background": "light"
          }
        }
      ]
    },
    {
      "cell_type": "code",
      "metadata": {
        "id": "8fiKe-cBu9r6",
        "colab_type": "code",
        "colab": {}
      },
      "source": [
        ""
      ],
      "execution_count": null,
      "outputs": []
    },
    {
      "cell_type": "code",
      "metadata": {
        "id": "hoT_Av3gv0cE",
        "colab_type": "code",
        "colab": {}
      },
      "source": [
        ""
      ],
      "execution_count": null,
      "outputs": []
    },
    {
      "cell_type": "code",
      "metadata": {
        "id": "lABoF1ZPwHUM",
        "colab_type": "code",
        "colab": {}
      },
      "source": [
        "#For Ridge\n",
        "from sklearn.linear_model import Ridge\n",
        "ridge = Ridge(alpha=0.2)\n",
        "\n",
        "\n"
      ],
      "execution_count": 9,
      "outputs": []
    },
    {
      "cell_type": "code",
      "metadata": {
        "id": "wGL6vMvMxFAL",
        "colab_type": "code",
        "colab": {}
      },
      "source": [
        "ridge_coef = ridge.fit(x_std,Y).coef_"
      ],
      "execution_count": 17,
      "outputs": []
    },
    {
      "cell_type": "code",
      "metadata": {
        "id": "U0E_12wDSXjW",
        "colab_type": "code",
        "colab": {
          "base_uri": "https://localhost:8080/",
          "height": 68
        },
        "outputId": "640179fd-e2eb-4f01-c8bc-de35726e98d6"
      },
      "source": [
        "ridge_coef"
      ],
      "execution_count": 18,
      "outputs": [
        {
          "output_type": "execute_result",
          "data": {
            "text/plain": [
              "array([-0.92646068,  1.07849275,  0.13607368,  0.68243527, -2.05110798,\n",
              "        2.6759721 ,  0.01817939, -3.09866587,  2.64775331, -2.06318543,\n",
              "       -2.05894196,  0.84918485, -3.74101393])"
            ]
          },
          "metadata": {
            "tags": []
          },
          "execution_count": 18
        }
      ]
    },
    {
      "cell_type": "code",
      "metadata": {
        "id": "sOFxMZAUSXzT",
        "colab_type": "code",
        "colab": {
          "base_uri": "https://localhost:8080/",
          "height": 289
        },
        "outputId": "062260d8-20a2-41af-f26a-a86a2dc8db67"
      },
      "source": [
        "plt.plot(range(len(names)),ridge_coef )\n",
        "plt.xticks(range(len(names)), names, rotation=60)\n",
        "plt.ylabel(\"coefficient\")\n",
        "plt.show()"
      ],
      "execution_count": 19,
      "outputs": [
        {
          "output_type": "display_data",
          "data": {
            "image/png": "[encoded data removed]",
            "text/plain": [
              "<Figure size 432x288 with 1 Axes>"
            ]
          },
          "metadata": {
            "tags": [],
            "needs_background": "light"
          }
        }
      ]
    },
    {
      "cell_type": "code",
      "metadata": {
        "id": "0adb5-9JSYA7",
        "colab_type": "code",
        "colab": {}
      },
      "source": [
        ""
      ],
      "execution_count": null,
      "outputs": []
    },
    {
      "cell_type": "code",
      "metadata": {
        "id": "JTueOnm7SYPT",
        "colab_type": "code",
        "colab": {}
      },
      "source": [
        ""
      ],
      "execution_count": null,
      "outputs": []
    },
    {
      "cell_type": "code",
      "metadata": {
        "id": "Jhg13ZcHSYck",
        "colab_type": "code",
        "colab": {}
      },
      "source": [
        ""
      ],
      "execution_count": null,
      "outputs": []
    },
    {
      "cell_type": "code",
      "metadata": {
        "id": "T3Y2JzB7SYoj",
        "colab_type": "code",
        "colab": {}
      },
      "source": [
        ""
      ],
      "execution_count": null,
      "outputs": []
    },
    {
      "cell_type": "code",
      "metadata": {
        "id": "00V8r3TiSY0j",
        "colab_type": "code",
        "colab": {}
      },
      "source": [
        ""
      ],
      "execution_count": null,
      "outputs": []
    },
    {
      "cell_type": "code",
      "metadata": {
        "id": "HLRt2ezoSZAz",
        "colab_type": "code",
        "colab": {}
      },
      "source": [
        ""
      ],
      "execution_count": null,
      "outputs": []
    },
    {
      "cell_type": "code",
      "metadata": {
        "id": "gSGXG63ZSZOT",
        "colab_type": "code",
        "colab": {
          "base_uri": "https://localhost:8080/",
          "height": 34
        },
        "outputId": "1ff2d4ee-f90a-4411-bca0-a7fd5f731d50"
      },
      "source": [
        "x_std.shape\n",
        "Y.shape"
      ],
      "execution_count": 44,
      "outputs": [
        {
          "output_type": "execute_result",
          "data": {
            "text/plain": [
              "(506, 1)"
            ]
          },
          "metadata": {
            "tags": []
          },
          "execution_count": 44
        }
      ]
    },
    {
      "cell_type": "code",
      "metadata": {
        "id": "8VV4baOgxFOZ",
        "colab_type": "code",
        "colab": {
          "base_uri": "https://localhost:8080/",
          "height": 69
        },
        "outputId": "b2dc9cf3-3c6d-47a6-f8e4-dfd80ec41f61"
      },
      "source": [
        "'''\n",
        "rr = Ridge(alpha=0.4)\n",
        "model = rr.fit(x_std, Y)\n",
        "\n",
        "#plt.scatter(x_std[:,5], Y)\n",
        "#plt.plot(x_std, c='red')\n",
        "\n",
        "plt.plot(model.coef_,linestyle='none',marker='o',markersize=10,color='green')\n",
        "plt.xlabel('Coefficient Index',fontsize=16)\n",
        "plt.ylabel('Coefficient Magnitude',fontsize=16)\n",
        "plt.legend(fontsize=13,loc=4)\n",
        "plt.show()\n",
        "'''"
      ],
      "execution_count": 54,
      "outputs": [
        {
          "output_type": "execute_result",
          "data": {
            "application/vnd.google.colaboratory.intrinsic+json": {
              "type": "string"
            },
            "text/plain": [
              "\"\\nrr = Ridge(alpha=0.4)\\nmodel = rr.fit(x_std, Y)\\n\\n#plt.scatter(x_std[:,5], Y)\\n#plt.plot(x_std, c='red')\\n\\nplt.plot(model.coef_,linestyle='none',marker='o',markersize=10,color='green')\\nplt.xlabel('Coefficient Index',fontsize=16)\\nplt.ylabel('Coefficient Magnitude',fontsize=16)\\nplt.legend(fontsize=13,loc=4)\\nplt.show()\\n\""
            ]
          },
          "metadata": {
            "tags": []
          },
          "execution_count": 54
        }
      ]
    },
    {
      "cell_type": "code",
      "metadata": {
        "id": "Yw-PNnunyXxY",
        "colab_type": "code",
        "colab": {}
      },
      "source": [
        ""
      ],
      "execution_count": null,
      "outputs": []
    }
  ]
}