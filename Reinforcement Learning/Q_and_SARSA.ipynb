{
  "nbformat": 4,
  "nbformat_minor": 0,
  "metadata": {
    "colab": {
      "name": "Q_and_SARSA.ipynb",
      "provenance": [],
      "collapsed_sections": []
    },
    "kernelspec": {
      "name": "python3",
      "display_name": "Python 3"
    }
  },
  "cells": [
    {
      "cell_type": "code",
      "metadata": {
        "id": "AyrT9n8QEzSh"
      },
      "source": [
        "# Q Learning in Python"
      ],
      "execution_count": null,
      "outputs": []
    },
    {
      "cell_type": "code",
      "metadata": {
        "id": "9xOxVN-X3lXf"
      },
      "source": [
        "# Gym is a toolkit for developing and comparing reinforcement learning algorithms.\n",
        "#  It supports teaching agents everything from walking to playing games like Pong or Pinball."
      ],
      "execution_count": null,
      "outputs": []
    },
    {
      "cell_type": "code",
      "metadata": {
        "id": "g-o_UICvE2kd"
      },
      "source": [
        "import gym\n",
        "import numpy as np\n",
        "import time\n",
        "\n",
        "env = gym.make('FrozenLake-v0')\n",
        "STATES = env.observation_space.n\n",
        "ACTIONS = env.action_space.n\n",
        "\n",
        "Q = np.zeros((STATES, ACTIONS))\n",
        "\n",
        "\n"
      ],
      "execution_count": 1,
      "outputs": []
    },
    {
      "cell_type": "code",
      "metadata": {
        "id": "R2G965fTMzj_",
        "colab": {
          "base_uri": "https://localhost:8080/"
        },
        "outputId": "65fc59eb-02d4-499b-d0fa-6fd1d726a6b6"
      },
      "source": [
        "STATES"
      ],
      "execution_count": 2,
      "outputs": [
        {
          "output_type": "execute_result",
          "data": {
            "text/plain": [
              "16"
            ]
          },
          "metadata": {
            "tags": []
          },
          "execution_count": 2
        }
      ]
    },
    {
      "cell_type": "code",
      "metadata": {
        "id": "ra6sqbsLM4de",
        "colab": {
          "base_uri": "https://localhost:8080/"
        },
        "outputId": "34f313c8-db78-4825-9f6c-b0a34ba57558"
      },
      "source": [
        "ACTIONS"
      ],
      "execution_count": 3,
      "outputs": [
        {
          "output_type": "execute_result",
          "data": {
            "text/plain": [
              "4"
            ]
          },
          "metadata": {
            "tags": []
          },
          "execution_count": 3
        }
      ]
    },
    {
      "cell_type": "code",
      "metadata": {
        "id": "3N_fAFIsM4ze",
        "colab": {
          "base_uri": "https://localhost:8080/"
        },
        "outputId": "8d6bfc6f-dd40-4969-b539-d4eb03df8697"
      },
      "source": [
        "#  4 * 16\n",
        "Q"
      ],
      "execution_count": 4,
      "outputs": [
        {
          "output_type": "execute_result",
          "data": {
            "text/plain": [
              "array([[0., 0., 0., 0.],\n",
              "       [0., 0., 0., 0.],\n",
              "       [0., 0., 0., 0.],\n",
              "       [0., 0., 0., 0.],\n",
              "       [0., 0., 0., 0.],\n",
              "       [0., 0., 0., 0.],\n",
              "       [0., 0., 0., 0.],\n",
              "       [0., 0., 0., 0.],\n",
              "       [0., 0., 0., 0.],\n",
              "       [0., 0., 0., 0.],\n",
              "       [0., 0., 0., 0.],\n",
              "       [0., 0., 0., 0.],\n",
              "       [0., 0., 0., 0.],\n",
              "       [0., 0., 0., 0.],\n",
              "       [0., 0., 0., 0.],\n",
              "       [0., 0., 0., 0.]])"
            ]
          },
          "metadata": {
            "tags": []
          },
          "execution_count": 4
        }
      ]
    },
    {
      "cell_type": "code",
      "metadata": {
        "id": "foLQI46zM0Cx"
      },
      "source": [
        "EPISODES = 3000 # how many times to run the enviornment from the beginning\n",
        "MAX_STEPS = 100  # max number of steps allowed for each run of enviornment\n",
        "LEARNING_RATE = 0.81  # learning rate\n",
        "GAMMA = 0.96\n",
        "RENDER = False # if you want to see training set to true\n",
        "epsilon = 0.9"
      ],
      "execution_count": 5,
      "outputs": []
    },
    {
      "cell_type": "code",
      "metadata": {
        "id": "qId4JaMSE40A",
        "colab": {
          "base_uri": "https://localhost:8080/"
        },
        "outputId": "42c709c2-6a52-4e96-f25d-d0b84fb0cb57"
      },
      "source": [
        "rewards = []\n",
        "for episode in range(EPISODES):\n",
        "\n",
        "   #get the starting state in Evr. after reset\n",
        "  state = env.reset()\n",
        "  for _ in range(MAX_STEPS):  #Explore the env. till the max step;\n",
        "    \n",
        "    if RENDER:\n",
        "      env.render()\n",
        "\n",
        "    if np.random.uniform(0, 1) < epsilon:\n",
        "      #Random action in Envr.\n",
        "      action = env.action_space.sample()  \n",
        "    else:\n",
        "      #next state of agent\n",
        "      action = np.argmax(Q[state, :])\n",
        "\n",
        "    next_state, reward, done, _ = env.step(action)\n",
        "    #we dont' care about the info values _, that's why we ignore it ...\n",
        "\n",
        "    Q[state, action] = Q[state, action] + LEARNING_RATE * (reward + GAMMA * np.max(Q[next_state, :]) - Q[state, action])\n",
        "\n",
        "    state = next_state\n",
        "\n",
        "    if done: \n",
        "      rewards.append(reward)\n",
        "      epsilon -= 0.001\n",
        "      break  # reached goal\n",
        "\n",
        "print(Q)\n",
        "print(f\"Average reward: {sum(rewards)/len(rewards)}:\")\n",
        "# and now we can see our Q values!"
      ],
      "execution_count": 6,
      "outputs": [
        {
          "output_type": "stream",
          "text": [
            "[[2.31250639e-01 1.88624718e-02 1.51947794e-02 2.07254717e-02]\n",
            " [3.84067264e-03 1.03652588e-02 1.77375183e-04 1.56747902e-01]\n",
            " [4.13686775e-03 3.16157251e-03 6.21044621e-03 2.06301168e-01]\n",
            " [3.34473577e-03 3.90129635e-03 2.47142269e-03 1.21783788e-01]\n",
            " [2.33586716e-01 1.55870465e-02 1.64483226e-02 1.02997379e-02]\n",
            " [0.00000000e+00 0.00000000e+00 0.00000000e+00 0.00000000e+00]\n",
            " [5.27035558e-05 2.25676700e-05 1.98534419e-01 6.89990332e-05]\n",
            " [0.00000000e+00 0.00000000e+00 0.00000000e+00 0.00000000e+00]\n",
            " [1.19686052e-02 1.41666457e-02 1.29140752e-02 5.12153630e-01]\n",
            " [3.02558626e-03 6.52279941e-01 6.17141919e-03 4.94767082e-03]\n",
            " [1.47545137e-01 2.38241556e-03 1.64587781e-03 1.10553727e-03]\n",
            " [0.00000000e+00 0.00000000e+00 0.00000000e+00 0.00000000e+00]\n",
            " [0.00000000e+00 0.00000000e+00 0.00000000e+00 0.00000000e+00]\n",
            " [2.39692224e-02 2.67217136e-02 8.81169284e-01 4.12265795e-02]\n",
            " [9.26028398e-02 9.78605028e-01 7.29933680e-02 9.14983636e-02]\n",
            " [0.00000000e+00 0.00000000e+00 0.00000000e+00 0.00000000e+00]]\n",
            "Average reward: 0.5066666666666667:\n"
          ],
          "name": "stdout"
        }
      ]
    },
    {
      "cell_type": "code",
      "metadata": {
        "id": "wLFvbEvnElBL",
        "colab": {
          "base_uri": "https://localhost:8080/"
        },
        "outputId": "b8682a1f-29aa-4385-c4a1-150df83865e3"
      },
      "source": [
        "env.render()"
      ],
      "execution_count": 7,
      "outputs": [
        {
          "output_type": "stream",
          "text": [
            "  (Down)\n",
            "SFFF\n",
            "FHFH\n",
            "FFFH\n",
            "HFF\u001b[41mG\u001b[0m\n"
          ],
          "name": "stdout"
        }
      ]
    },
    {
      "cell_type": "code",
      "metadata": {
        "id": "UggKXt7tE8J7",
        "colab": {
          "base_uri": "https://localhost:8080/",
          "height": 279
        },
        "outputId": "c3a371e9-5361-4157-efc0-ef93f44b03a7"
      },
      "source": [
        "# we can plot the training progress and see how the agent improved\n",
        "import matplotlib.pyplot as plt\n",
        "\n",
        "def get_average(values):\n",
        "  return sum(values)/len(values)\n",
        "\n",
        "avg_rewards = []\n",
        "for i in range(0, len(rewards), 100):\n",
        "  avg_rewards.append(get_average(rewards[i:i+100])) \n",
        "\n",
        "plt.plot(avg_rewards)\n",
        "plt.ylabel('average reward')\n",
        "plt.xlabel('episodes (100\\'s)')\n",
        "plt.show()"
      ],
      "execution_count": 8,
      "outputs": [
        {
          "output_type": "display_data",
          "data": {
            "image/png": "[encoded data removed]",
            "text/plain": [
              "<Figure size 432x288 with 1 Axes>"
            ]
          },
          "metadata": {
            "tags": [],
            "needs_background": "light"
          }
        }
      ]
    },
    {
      "cell_type": "code",
      "metadata": {
        "id": "farZ4tyhG54s"
      },
      "source": [
        ""
      ],
      "execution_count": null,
      "outputs": []
    },
    {
      "cell_type": "code",
      "metadata": {
        "id": "FoZUDsLUG6Oa"
      },
      "source": [
        ""
      ],
      "execution_count": null,
      "outputs": []
    },
    {
      "cell_type": "code",
      "metadata": {
        "id": "UHPBeLrWG6l7"
      },
      "source": [
        ""
      ],
      "execution_count": null,
      "outputs": []
    },
    {
      "cell_type": "code",
      "metadata": {
        "id": "H4-x7GGdG68M"
      },
      "source": [
        ""
      ],
      "execution_count": null,
      "outputs": []
    },
    {
      "cell_type": "code",
      "metadata": {
        "id": "Rar6VtQpE_Ih"
      },
      "source": [
        "#---Sarsa Algorithm----"
      ],
      "execution_count": null,
      "outputs": []
    },
    {
      "cell_type": "code",
      "metadata": {
        "id": "ordzRbREHj5z"
      },
      "source": [
        "\n",
        "import numpy as np \n",
        "import gym \n"
      ],
      "execution_count": null,
      "outputs": []
    },
    {
      "cell_type": "code",
      "metadata": {
        "id": "wev2xP25Hkes"
      },
      "source": [
        "env = gym.make('FrozenLake-v0') "
      ],
      "execution_count": null,
      "outputs": []
    },
    {
      "cell_type": "code",
      "metadata": {
        "id": "_V6pkuyFHnB7"
      },
      "source": [
        "\n",
        "#Defining the different parameters \n",
        "epsilon = 0.9\n",
        "total_episodes = 10000\n",
        "max_steps = 100\n",
        "alpha = 0.85\n",
        "gamma = 0.95\n",
        "  \n",
        "#Initializing the Q-matrix \n",
        "Q = np.zeros((env.observation_space.n, env.action_space.n)) \n"
      ],
      "execution_count": null,
      "outputs": []
    },
    {
      "cell_type": "code",
      "metadata": {
        "id": "FNCCBr0mG_Kk"
      },
      "source": [
        "Q"
      ],
      "execution_count": null,
      "outputs": []
    },
    {
      "cell_type": "code",
      "metadata": {
        "id": "Dq1km3ozHp3B"
      },
      "source": [
        "\n",
        "#Function to choose the next action \n",
        "def choose_action(state): \n",
        "    action=0\n",
        "    if np.random.uniform(0, 1) < epsilon: \n",
        "        action = env.action_space.sample() \n",
        "    else: \n",
        "        action = np.argmax(Q[state, :]) \n",
        "    return action \n",
        "  \n",
        "#Function to learn the Q-value \n",
        "def update(state, state2, reward, action, action2): \n",
        "    predict = Q[state, action] \n",
        "    target = reward + gamma * Q[state2, action2] \n",
        "    Q[state, action] = Q[state, action] + alpha * (target - predict) \n"
      ],
      "execution_count": null,
      "outputs": []
    },
    {
      "cell_type": "code",
      "metadata": {
        "id": "g6XL3w76Hs0W"
      },
      "source": [
        "\n",
        "#Initializing the reward \n",
        "reward=0\n",
        "  \n",
        "# Starting the SARSA learning \n",
        "for episode in range(total_episodes): \n",
        "    t = 0\n",
        "    state1 = env.reset() \n",
        "    action1 = choose_action(state1) \n",
        "  \n",
        "    while t < max_steps: \n",
        "        #Visualizing the training \n",
        "        env.render() \n",
        "          \n",
        "        #Getting the next state \n",
        "        state2, reward, done, info = env.step(action1) \n",
        "  \n",
        "        #Choosing the next action \n",
        "        action2 = choose_action(state2) \n",
        "          \n",
        "        #Learning the Q-value \n",
        "        update(state1, state2, reward, action1, action2) \n",
        "  \n",
        "        state1 = state2 \n",
        "        action1 = action2 \n",
        "          \n",
        "        #Updating the respective vaLues \n",
        "        t += 1\n",
        "        reward += 1\n",
        "          \n",
        "        #If at the end of learning process \n",
        "        if done: \n",
        "            break\n"
      ],
      "execution_count": null,
      "outputs": []
    },
    {
      "cell_type": "code",
      "metadata": {
        "id": "IETev3SIH0gT"
      },
      "source": [
        "\n",
        "#Evaluating the performance \n",
        "print (\"Performace : \", reward/total_episodes) \n",
        "  \n",
        "#Visualizing the Q-matrix \n",
        "print(Q) \n"
      ],
      "execution_count": null,
      "outputs": []
    },
    {
      "cell_type": "code",
      "metadata": {
        "id": "m1xBHTN9INVd"
      },
      "source": [
        ""
      ],
      "execution_count": null,
      "outputs": []
    }
  ]
}